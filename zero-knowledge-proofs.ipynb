{
 "cells": [
  {
   "cell_type": "code",
   "execution_count": 1,
   "metadata": {
    "ExecuteTime": {
     "end_time": "2017-11-08T20:47:05.720858Z",
     "start_time": "2017-11-08T20:47:05.716375Z"
    }
   },
   "outputs": [],
   "source": [
    "# zk messages\n",
    "# sha3 collision probability = 2^128\n",
    "# ASCII characters represented in 7 bits 000 0000, pad one so that it is 0000 0000\n",
    "# each message has to be proven to the extent that sha3 collisions are probable (for standard security)"
   ]
  },
  {
   "cell_type": "code",
   "execution_count": 40,
   "metadata": {
    "ExecuteTime": {
     "end_time": "2017-11-08T21:07:42.832992Z",
     "start_time": "2017-11-08T21:07:42.830289Z"
    }
   },
   "outputs": [],
   "source": [
    "zk_msg = 'i would like a delicious taco i would like a delicious taco i would like a delicious taco'"
   ]
  },
  {
   "cell_type": "code",
   "execution_count": 41,
   "metadata": {
    "ExecuteTime": {
     "end_time": "2017-11-08T21:07:43.031369Z",
     "start_time": "2017-11-08T21:07:43.028849Z"
    }
   },
   "outputs": [],
   "source": [
    "import binascii"
   ]
  },
  {
   "cell_type": "code",
   "execution_count": 43,
   "metadata": {
    "ExecuteTime": {
     "end_time": "2017-11-08T21:07:48.292235Z",
     "start_time": "2017-11-08T21:07:48.278718Z"
    }
   },
   "outputs": [],
   "source": [
    "def text_to_bits(text, encoding='utf-8', errors='surrogatepass'):\n",
    "    bits = bin(int(binascii.hexlify(text.encode(encoding, errors)), 16))[2:]\n",
    "    return bits.zfill(8 * ((len(bits) + 7) // 8))\n",
    "\n",
    "def text_from_bits(bits, encoding='utf-8', errors='surrogatepass'):\n",
    "    n = int(bits, 2)\n",
    "    return int2bytes(n).decode(encoding, errors)\n",
    "\n",
    "def int2bytes(i):\n",
    "    hex_string = '%x' % i\n",
    "    n = len(hex_string)\n",
    "    return binascii.unhexlify(hex_string.zfill(n + (n & 1)))"
   ]
  },
  {
   "cell_type": "code",
   "execution_count": 44,
   "metadata": {
    "ExecuteTime": {
     "end_time": "2017-11-08T21:07:48.591099Z",
     "start_time": "2017-11-08T21:07:48.587425Z"
    }
   },
   "outputs": [
    {
     "data": {
      "text/plain": [
       "'0110100100100000011101110110111101110101011011000110010000100000011011000110100101101011011001010010000001100001001000000110010001100101011011000110100101100011011010010110111101110101011100110010000001110100011000010110001101101111001000000110100100100000011101110110111101110101011011000110010000100000011011000110100101101011011001010010000001100001001000000110010001100101011011000110100101100011011010010110111101110101011100110010000001110100011000010110001101101111001000000110100100100000011101110110111101110101011011000110010000100000011011000110100101101011011001010010000001100001001000000110010001100101011011000110100101100011011010010110111101110101011100110010000001110100011000010110001101101111'"
      ]
     },
     "execution_count": 44,
     "metadata": {},
     "output_type": "execute_result"
    }
   ],
   "source": [
    "text_to_bits(zk_msg)"
   ]
  },
  {
   "cell_type": "code",
   "execution_count": 45,
   "metadata": {
    "ExecuteTime": {
     "end_time": "2017-11-08T21:07:49.552780Z",
     "start_time": "2017-11-08T21:07:49.548687Z"
    }
   },
   "outputs": [
    {
     "name": "stdout",
     "output_type": "stream",
     "text": [
      "712\n"
     ]
    }
   ],
   "source": [
    "print(len(text_to_bits(zk_msg)))"
   ]
  },
  {
   "cell_type": "code",
   "execution_count": 47,
   "metadata": {
    "ExecuteTime": {
     "end_time": "2017-11-08T21:07:53.098626Z",
     "start_time": "2017-11-08T21:07:53.094426Z"
    }
   },
   "outputs": [],
   "source": [
    "def chunk(l, n):\n",
    "    return [l[i:i + n] for i in range(0, len(l), n)]"
   ]
  },
  {
   "cell_type": "code",
   "execution_count": 48,
   "metadata": {
    "ExecuteTime": {
     "end_time": "2017-11-08T21:07:54.207105Z",
     "start_time": "2017-11-08T21:07:54.204228Z"
    }
   },
   "outputs": [],
   "source": [
    "chunks = chunk(text_to_bits(zk_msg), 4)"
   ]
  },
  {
   "cell_type": "code",
   "execution_count": 49,
   "metadata": {
    "ExecuteTime": {
     "end_time": "2017-11-08T21:07:55.356532Z",
     "start_time": "2017-11-08T21:07:55.350493Z"
    }
   },
   "outputs": [
    {
     "data": {
      "text/plain": [
       "['0110',\n",
       " '1001',\n",
       " '0010',\n",
       " '0000',\n",
       " '0111',\n",
       " '0111',\n",
       " '0110',\n",
       " '1111',\n",
       " '0111',\n",
       " '0101',\n",
       " '0110',\n",
       " '1100',\n",
       " '0110',\n",
       " '0100',\n",
       " '0010',\n",
       " '0000',\n",
       " '0110',\n",
       " '1100',\n",
       " '0110',\n",
       " '1001',\n",
       " '0110',\n",
       " '1011',\n",
       " '0110',\n",
       " '0101',\n",
       " '0010',\n",
       " '0000',\n",
       " '0110',\n",
       " '0001',\n",
       " '0010',\n",
       " '0000',\n",
       " '0110',\n",
       " '0100',\n",
       " '0110',\n",
       " '0101',\n",
       " '0110',\n",
       " '1100',\n",
       " '0110',\n",
       " '1001',\n",
       " '0110',\n",
       " '0011',\n",
       " '0110',\n",
       " '1001',\n",
       " '0110',\n",
       " '1111',\n",
       " '0111',\n",
       " '0101',\n",
       " '0111',\n",
       " '0011',\n",
       " '0010',\n",
       " '0000',\n",
       " '0111',\n",
       " '0100',\n",
       " '0110',\n",
       " '0001',\n",
       " '0110',\n",
       " '0011',\n",
       " '0110',\n",
       " '1111',\n",
       " '0010',\n",
       " '0000',\n",
       " '0110',\n",
       " '1001',\n",
       " '0010',\n",
       " '0000',\n",
       " '0111',\n",
       " '0111',\n",
       " '0110',\n",
       " '1111',\n",
       " '0111',\n",
       " '0101',\n",
       " '0110',\n",
       " '1100',\n",
       " '0110',\n",
       " '0100',\n",
       " '0010',\n",
       " '0000',\n",
       " '0110',\n",
       " '1100',\n",
       " '0110',\n",
       " '1001',\n",
       " '0110',\n",
       " '1011',\n",
       " '0110',\n",
       " '0101',\n",
       " '0010',\n",
       " '0000',\n",
       " '0110',\n",
       " '0001',\n",
       " '0010',\n",
       " '0000',\n",
       " '0110',\n",
       " '0100',\n",
       " '0110',\n",
       " '0101',\n",
       " '0110',\n",
       " '1100',\n",
       " '0110',\n",
       " '1001',\n",
       " '0110',\n",
       " '0011',\n",
       " '0110',\n",
       " '1001',\n",
       " '0110',\n",
       " '1111',\n",
       " '0111',\n",
       " '0101',\n",
       " '0111',\n",
       " '0011',\n",
       " '0010',\n",
       " '0000',\n",
       " '0111',\n",
       " '0100',\n",
       " '0110',\n",
       " '0001',\n",
       " '0110',\n",
       " '0011',\n",
       " '0110',\n",
       " '1111',\n",
       " '0010',\n",
       " '0000',\n",
       " '0110',\n",
       " '1001',\n",
       " '0010',\n",
       " '0000',\n",
       " '0111',\n",
       " '0111',\n",
       " '0110',\n",
       " '1111',\n",
       " '0111',\n",
       " '0101',\n",
       " '0110',\n",
       " '1100',\n",
       " '0110',\n",
       " '0100',\n",
       " '0010',\n",
       " '0000',\n",
       " '0110',\n",
       " '1100',\n",
       " '0110',\n",
       " '1001',\n",
       " '0110',\n",
       " '1011',\n",
       " '0110',\n",
       " '0101',\n",
       " '0010',\n",
       " '0000',\n",
       " '0110',\n",
       " '0001',\n",
       " '0010',\n",
       " '0000',\n",
       " '0110',\n",
       " '0100',\n",
       " '0110',\n",
       " '0101',\n",
       " '0110',\n",
       " '1100',\n",
       " '0110',\n",
       " '1001',\n",
       " '0110',\n",
       " '0011',\n",
       " '0110',\n",
       " '1001',\n",
       " '0110',\n",
       " '1111',\n",
       " '0111',\n",
       " '0101',\n",
       " '0111',\n",
       " '0011',\n",
       " '0010',\n",
       " '0000',\n",
       " '0111',\n",
       " '0100',\n",
       " '0110',\n",
       " '0001',\n",
       " '0110',\n",
       " '0011',\n",
       " '0110',\n",
       " '1111']"
      ]
     },
     "execution_count": 49,
     "metadata": {},
     "output_type": "execute_result"
    }
   ],
   "source": [
    "chunks"
   ]
  },
  {
   "cell_type": "code",
   "execution_count": 50,
   "metadata": {
    "ExecuteTime": {
     "end_time": "2017-11-08T21:07:59.776792Z",
     "start_time": "2017-11-08T21:07:59.757316Z"
    }
   },
   "outputs": [],
   "source": [
    "import random\n",
    "\n",
    "def flip_str(s):\n",
    "    new_str = ''\n",
    "    for i in range(len(s)):\n",
    "        if s[i] == '0':\n",
    "            new_str += '1'\n",
    "        else:\n",
    "            new_str += '0'\n",
    "    return new_str\n",
    "\n",
    "def generate_mixture_and_bool_proof(c):\n",
    "    bool_proof = []\n",
    "    mixture = []\n",
    "    for cc in c:\n",
    "        mix_c = cc\n",
    "        if random.random() > 0.5:\n",
    "            mix_c = flip_str(mix_c)\n",
    "            bool_proof.append(True)\n",
    "        else:\n",
    "            bool_proof.append(False)\n",
    "        mixture.append(mix_c)\n",
    "    return mixture, bool_proof"
   ]
  },
  {
   "cell_type": "code",
   "execution_count": 51,
   "metadata": {
    "ExecuteTime": {
     "end_time": "2017-11-08T21:08:00.190086Z",
     "start_time": "2017-11-08T21:08:00.187239Z"
    }
   },
   "outputs": [],
   "source": [
    "shh, proof = generate_mixture_and_bool_proof(chunks)"
   ]
  },
  {
   "cell_type": "code",
   "execution_count": 52,
   "metadata": {
    "ExecuteTime": {
     "end_time": "2017-11-08T21:08:01.234142Z",
     "start_time": "2017-11-08T21:08:01.230787Z"
    }
   },
   "outputs": [],
   "source": [
    "def unchunk(c):\n",
    "    return ''.join(c)"
   ]
  },
  {
   "cell_type": "code",
   "execution_count": 53,
   "metadata": {
    "ExecuteTime": {
     "end_time": "2017-11-08T21:08:02.036123Z",
     "start_time": "2017-11-08T21:08:02.032038Z"
    }
   },
   "outputs": [
    {
     "data": {
      "text/plain": [
       "'1001100111010000100010001001000001110101011011001001101111011111100100110110011010011011011001010010111110010001110100000110101110011010100111000110100101100011011001101001111101110101100000110010000001110100100111101001110010011111001000001001100100101111100001110110000010001010011000111001010011010000100111001001011001100100011001010010111110010001110111110110010001101010011011001001100110011100011001101001000001111010100000111101000010001011100100011001110010011111110100000110011000100000100001110110000010000101100100111001010011011111100100111001100110010100100110101101000001101110001000000110010001101010100111001001011001101100100110011001111110000101011111001101111101111011011011100110110010010000'"
      ]
     },
     "execution_count": 53,
     "metadata": {},
     "output_type": "execute_result"
    }
   ],
   "source": [
    "unchunk(shh)"
   ]
  },
  {
   "cell_type": "code",
   "execution_count": 54,
   "metadata": {
    "ExecuteTime": {
     "end_time": "2017-11-08T21:08:06.992161Z",
     "start_time": "2017-11-08T21:08:06.984645Z"
    }
   },
   "outputs": [],
   "source": [
    "def bitsToBytes(a):\n",
    "    a = [0] * (8 - len(a) % 8) + a # adding in extra 0 values to make a multiple of 8 bits\n",
    "    s = ''.join(str(x) for x in a)[::-1] # reverses and joins all bits\n",
    "    returnInts = []\n",
    "    for i in range(0,len(s),8):\n",
    "        returnInts.append(int(s[i:i+8],2)) # goes 8 bits at a time to save as ints\n",
    "    return returnInts"
   ]
  },
  {
   "cell_type": "code",
   "execution_count": 60,
   "metadata": {
    "ExecuteTime": {
     "end_time": "2017-11-08T21:11:52.589719Z",
     "start_time": "2017-11-08T21:11:52.585780Z"
    }
   },
   "outputs": [
    {
     "data": {
      "text/plain": [
       "'0x99d08890756c9bdf93669b652f91d06b9a9c6963669f758320749e9c9f20992f87608a6394d09c9664652f91df646a6c999c66907a83d08b919c9fd066208760859394df9399949ad06e20646a9c966c999f857cdf7b6e6c90'"
      ]
     },
     "execution_count": 60,
     "metadata": {},
     "output_type": "execute_result"
    }
   ],
   "source": [
    "hex(int(unchunk(shh), 2)) # <- this is the obfuscated string that is sent to the other party"
   ]
  },
  {
   "cell_type": "code",
   "execution_count": 61,
   "metadata": {
    "ExecuteTime": {
     "end_time": "2017-11-08T21:17:20.994454Z",
     "start_time": "2017-11-08T21:17:20.989293Z"
    }
   },
   "outputs": [
    {
     "data": {
      "text/plain": [
       "[True,\n",
       " False,\n",
       " True,\n",
       " False,\n",
       " True,\n",
       " True,\n",
       " True,\n",
       " True,\n",
       " False,\n",
       " False,\n",
       " False,\n",
       " False,\n",
       " True,\n",
       " True,\n",
       " True,\n",
       " True,\n",
       " True,\n",
       " True,\n",
       " False,\n",
       " True,\n",
       " True,\n",
       " False,\n",
       " False,\n",
       " False,\n",
       " False,\n",
       " True,\n",
       " True,\n",
       " False,\n",
       " True,\n",
       " False,\n",
       " False,\n",
       " True,\n",
       " True,\n",
       " True,\n",
       " True,\n",
       " False,\n",
       " False,\n",
       " False,\n",
       " False,\n",
       " False,\n",
       " False,\n",
       " True,\n",
       " True,\n",
       " False,\n",
       " False,\n",
       " False,\n",
       " True,\n",
       " False,\n",
       " False,\n",
       " False,\n",
       " False,\n",
       " False,\n",
       " True,\n",
       " True,\n",
       " True,\n",
       " True,\n",
       " True,\n",
       " False,\n",
       " False,\n",
       " False,\n",
       " True,\n",
       " False,\n",
       " False,\n",
       " True,\n",
       " True,\n",
       " False,\n",
       " False,\n",
       " True,\n",
       " True,\n",
       " True,\n",
       " False,\n",
       " True,\n",
       " True,\n",
       " False,\n",
       " True,\n",
       " False,\n",
       " True,\n",
       " False,\n",
       " True,\n",
       " True,\n",
       " False,\n",
       " True,\n",
       " False,\n",
       " False,\n",
       " False,\n",
       " True,\n",
       " True,\n",
       " False,\n",
       " True,\n",
       " True,\n",
       " False,\n",
       " False,\n",
       " False,\n",
       " True,\n",
       " False,\n",
       " False,\n",
       " True,\n",
       " False,\n",
       " True,\n",
       " True,\n",
       " False,\n",
       " True,\n",
       " True,\n",
       " True,\n",
       " False,\n",
       " True,\n",
       " True,\n",
       " False,\n",
       " True,\n",
       " False,\n",
       " True,\n",
       " True,\n",
       " True,\n",
       " False,\n",
       " True,\n",
       " True,\n",
       " True,\n",
       " False,\n",
       " True,\n",
       " False,\n",
       " False,\n",
       " True,\n",
       " False,\n",
       " False,\n",
       " True,\n",
       " False,\n",
       " False,\n",
       " True,\n",
       " True,\n",
       " False,\n",
       " True,\n",
       " True,\n",
       " True,\n",
       " False,\n",
       " True,\n",
       " True,\n",
       " True,\n",
       " True,\n",
       " True,\n",
       " False,\n",
       " True,\n",
       " True,\n",
       " True,\n",
       " True,\n",
       " True,\n",
       " False,\n",
       " False,\n",
       " True,\n",
       " False,\n",
       " False,\n",
       " False,\n",
       " False,\n",
       " False,\n",
       " True,\n",
       " True,\n",
       " False,\n",
       " True,\n",
       " True,\n",
       " False,\n",
       " True,\n",
       " True,\n",
       " False,\n",
       " True,\n",
       " False,\n",
       " True,\n",
       " False,\n",
       " False,\n",
       " True,\n",
       " True,\n",
       " True,\n",
       " False,\n",
       " True,\n",
       " False,\n",
       " True,\n",
       " False,\n",
       " True,\n",
       " True,\n",
       " True]"
      ]
     },
     "execution_count": 61,
     "metadata": {},
     "output_type": "execute_result"
    }
   ],
   "source": [
    "proof"
   ]
  },
  {
   "cell_type": "code",
   "execution_count": 62,
   "metadata": {
    "ExecuteTime": {
     "end_time": "2017-11-08T21:18:15.673992Z",
     "start_time": "2017-11-08T21:18:15.669827Z"
    }
   },
   "outputs": [],
   "source": [
    "proof_string = ''\n",
    "for p in proof:\n",
    "    if p == True:\n",
    "        proof_string += '1'\n",
    "    else:\n",
    "        proof_string += '0'"
   ]
  },
  {
   "cell_type": "code",
   "execution_count": 63,
   "metadata": {
    "ExecuteTime": {
     "end_time": "2017-11-08T21:18:17.740957Z",
     "start_time": "2017-11-08T21:18:17.736943Z"
    }
   },
   "outputs": [
    {
     "data": {
      "text/plain": [
       "'1010111100001111110110000110100111100000011000100000111110001001100111011010101101000110110001001011011101101011101110100100100110111011111011111001000001101101101010011101010111'"
      ]
     },
     "execution_count": 63,
     "metadata": {},
     "output_type": "execute_result"
    }
   ],
   "source": [
    "proof_string"
   ]
  },
  {
   "cell_type": "code",
   "execution_count": 64,
   "metadata": {
    "ExecuteTime": {
     "end_time": "2017-11-08T21:18:37.217037Z",
     "start_time": "2017-11-08T21:18:37.213402Z"
    }
   },
   "outputs": [
    {
     "data": {
      "text/plain": [
       "'0x2bc3f61a781883e2676ad1b12ddaee926efbe41b6a757'"
      ]
     },
     "execution_count": 64,
     "metadata": {},
     "output_type": "execute_result"
    }
   ],
   "source": [
    "hex(int(proof_string, 2)) # <- the sender keeps this proof string"
   ]
  },
  {
   "cell_type": "code",
   "execution_count": null,
   "metadata": {},
   "outputs": [],
   "source": []
  }
 ],
 "metadata": {
  "kernelspec": {
   "display_name": "Python 3",
   "language": "python",
   "name": "python3"
  },
  "language_info": {
   "codemirror_mode": {
    "name": "ipython",
    "version": 3
   },
   "file_extension": ".py",
   "mimetype": "text/x-python",
   "name": "python",
   "nbconvert_exporter": "python",
   "pygments_lexer": "ipython3",
   "version": "3.6.0"
  }
 },
 "nbformat": 4,
 "nbformat_minor": 2
}
